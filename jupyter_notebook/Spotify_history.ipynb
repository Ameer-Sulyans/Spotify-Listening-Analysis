{
 "cells": [
  {
   "cell_type": "markdown",
   "id": "d15d0a99-9169-44b0-9438-f48232530b04",
   "metadata": {},
   "source": [
    "# Importing libraries"
   ]
  },
  {
   "cell_type": "code",
   "execution_count": 1,
   "id": "15e078ab-ac9d-41fa-ad06-f8949907d672",
   "metadata": {},
   "outputs": [],
   "source": [
    "import pandas as pd\n",
    "import seaborn as sns\n",
    "import matplotlib.pyplot as plt\n"
   ]
  },
  {
   "cell_type": "code",
   "execution_count": null,
   "id": "207c7d4f-590a-47a1-b6b0-055e8b03367c",
   "metadata": {},
   "outputs": [],
   "source": []
  },
  {
   "cell_type": "markdown",
   "id": "6d40b458-40e2-4a8f-94a6-f2653a9e5b72",
   "metadata": {},
   "source": [
    "# Load"
   ]
  },
  {
   "cell_type": "code",
   "execution_count": 6,
   "id": "13d903fc-c903-44c7-ade6-dbdf392b8cc4",
   "metadata": {},
   "outputs": [],
   "source": [
    "Spotify_data = pd.read_csv(r\"C:\\Users\\meers\\Downloads\\archive\\spotify_history.csv\")"
   ]
  },
  {
   "cell_type": "code",
   "execution_count": null,
   "id": "6919566f-9b6d-427d-aec7-bc578bf65e5a",
   "metadata": {},
   "outputs": [],
   "source": [
    "Spotify_data"
   ]
  },
  {
   "cell_type": "code",
   "execution_count": null,
   "id": "55da8753-b6e9-4f76-aad2-ddb31a3b8297",
   "metadata": {},
   "outputs": [],
   "source": []
  },
  {
   "cell_type": "markdown",
   "id": "1de812d4-64f7-4996-8b59-39c878e10d5a",
   "metadata": {},
   "source": [
    "# Check Structure"
   ]
  },
  {
   "cell_type": "code",
   "execution_count": null,
   "id": "5516332e-3edc-4953-961b-10ec5d8940f9",
   "metadata": {},
   "outputs": [],
   "source": [
    "Spotify_data.info()"
   ]
  },
  {
   "cell_type": "code",
   "execution_count": null,
   "id": "e503f9d5-7fae-4b7c-91ce-f44348e11699",
   "metadata": {},
   "outputs": [],
   "source": []
  },
  {
   "cell_type": "code",
   "execution_count": null,
   "id": "f4b3a8fb-505f-4c50-a4de-05a5386537d4",
   "metadata": {},
   "outputs": [],
   "source": [
    "Spotify_data.describe()"
   ]
  },
  {
   "cell_type": "code",
   "execution_count": null,
   "id": "a4e3a4d9-0f40-46be-84ed-2ee0197760a3",
   "metadata": {},
   "outputs": [],
   "source": []
  },
  {
   "cell_type": "code",
   "execution_count": null,
   "id": "7e3e80b8-c52c-4c46-a55a-eab088d16eab",
   "metadata": {},
   "outputs": [],
   "source": [
    "Spotify_data.head()"
   ]
  },
  {
   "cell_type": "code",
   "execution_count": null,
   "id": "6f425d1e-0c36-44e3-b55d-3dfb03774f59",
   "metadata": {},
   "outputs": [],
   "source": []
  },
  {
   "cell_type": "markdown",
   "id": "afa94b84-cc0c-4d8f-bcc3-50fadc979e7e",
   "metadata": {},
   "source": [
    "# Cleaning Data\n",
    "\n",
    "Handle missing values.\n",
    "\n",
    "Convert timestamps to datetime.\n",
    "\n",
    "Create new time-based features (year, month, day, hour).\n",
    "\n",
    "Convert ms_played to minutes/seconds.\n",
    "\n",
    "Remove extremely short plays less than 15 seconds to filter out accidental clicks."
   ]
  },
  {
   "cell_type": "code",
   "execution_count": null,
   "id": "7ad709f6-2fbb-489c-996e-9d4594efdfd5",
   "metadata": {},
   "outputs": [],
   "source": []
  },
  {
   "cell_type": "code",
   "execution_count": null,
   "id": "789430a1-54e9-444b-88a5-0b54c6139e77",
   "metadata": {},
   "outputs": [],
   "source": [
    "#Convert timestep to Datetime\n",
    "\n",
    "Spotify_data['ts'] = pd.to_datetime(Spotify_data['ts'])\n",
    "\n",
    "Spotify_data['ts_year'] = Spotify_data['ts'].dt.year\n",
    "Spotify_data['ts_month'] = Spotify_data['ts'].dt.month_name()\n",
    "Spotify_data['ts_day'] = Spotify_data['ts'].dt.day\n",
    "Spotify_data['ts_hour'] = Spotify_data['ts'].dt.hour\n",
    "\n"
   ]
  },
  {
   "cell_type": "code",
   "execution_count": null,
   "id": "471fa2b2-8734-41b9-a649-d3195847a1c4",
   "metadata": {},
   "outputs": [],
   "source": [
    "# Filter, convert to seconds, and format in one go\n",
    "Spotify_data = (\n",
    "    Spotify_data.assign(duration_seconds=Spotify_data['ms_played'] / 1000)\n",
    "                .loc[lambda df: df['duration_seconds'] >= 15]\n",
    "                .assign(minute_and_seconds=lambda df: df['duration_seconds'].apply(\n",
    "                    lambda x: f\"{int(x // 60)}:{int(x % 60):02d}\"\n",
    "                ))\n",
    ")\n",
    "\n",
    "\n",
    "Spotify_data"
   ]
  },
  {
   "cell_type": "code",
   "execution_count": null,
   "id": "55d2e912-0333-42c6-afa1-2a389cde4931",
   "metadata": {},
   "outputs": [],
   "source": []
  },
  {
   "cell_type": "code",
   "execution_count": null,
   "id": "eb9f635b-8f34-49bd-9bf4-93dfd7b09735",
   "metadata": {},
   "outputs": [],
   "source": []
  },
  {
   "cell_type": "code",
   "execution_count": null,
   "id": "b4074909-d2c3-42e8-beef-2280dad898cc",
   "metadata": {},
   "outputs": [],
   "source": []
  },
  {
   "cell_type": "code",
   "execution_count": null,
   "id": "73270bc7-a4e2-496e-a31d-78934c04f726",
   "metadata": {},
   "outputs": [],
   "source": [
    "#Removing uncessary columns\n",
    "\n",
    "Spotify_data = Spotify_data.drop(columns=['ts', 'ms_played'])\n"
   ]
  },
  {
   "cell_type": "code",
   "execution_count": null,
   "id": "46ea9a59-36c0-45f5-bf60-91843d96b0d8",
   "metadata": {},
   "outputs": [],
   "source": []
  },
  {
   "cell_type": "code",
   "execution_count": null,
   "id": "bce245d3-45eb-42f5-b11d-82938a6752ec",
   "metadata": {},
   "outputs": [],
   "source": []
  },
  {
   "cell_type": "code",
   "execution_count": null,
   "id": "4cb9f77d-5aa5-47cc-bdbb-54eef41ac077",
   "metadata": {},
   "outputs": [],
   "source": []
  },
  {
   "cell_type": "code",
   "execution_count": null,
   "id": "7b0aff35-5fa6-4430-9673-17fc778666fb",
   "metadata": {
    "scrolled": true
   },
   "outputs": [],
   "source": [
    "Spotify_data"
   ]
  },
  {
   "cell_type": "code",
   "execution_count": null,
   "id": "5ec32e98-938a-41d8-b62e-ceddc37ccdef",
   "metadata": {},
   "outputs": [],
   "source": []
  },
  {
   "cell_type": "markdown",
   "id": "35032deb-428a-464e-8835-504a24084f13",
   "metadata": {},
   "source": [
    "# Exploratory Data Analysis\n",
    "\n",
    "Questions to answer:\n",
    "\n",
    "1. Top artists & tracks by total minutes played.\n",
    "\n",
    "2. Listening habits by hour.\n",
    "\n",
    "3. Platform usage (web player, mobile, etc.).\n",
    "\n",
    "4. Skips behavior – which songs or artists are skipped most.\n",
    "\n",
    "5. Album listening trends.\n"
   ]
  },
  {
   "cell_type": "code",
   "execution_count": null,
   "id": "ccee3fdf-bcc3-4c4a-8f29-f2b7fee80b53",
   "metadata": {},
   "outputs": [],
   "source": []
  },
  {
   "cell_type": "code",
   "execution_count": null,
   "id": "55141ed2-8a5a-4106-a41e-fa287aa31a57",
   "metadata": {},
   "outputs": [],
   "source": [
    "# Top artists & tracks by total minutes played.\n",
    "\n",
    "top_artists = Spotify_data.groupby('artist_name')['duration_seconds'].sum().sort_values(ascending=False).head(10)\n",
    "top_artists\n",
    "\n",
    "#Based on the results shown below, we can conclude that the user's most-listened-to artist is The Beatles, as they have the highest total listening time in seconds."
   ]
  },
  {
   "cell_type": "markdown",
   "id": "762678d3-c181-4fbf-87d5-46f5b234e45d",
   "metadata": {},
   "source": []
  },
  {
   "cell_type": "code",
   "execution_count": null,
   "id": "8a18f90b-d0f1-4a17-a323-b457eea437f0",
   "metadata": {},
   "outputs": [],
   "source": [
    "# Listening habits by hour.\n",
    "\n",
    "hourly_listening = Spotify_data.groupby('ts_hour')['duration_seconds'].sum()\n",
    "hourly_listening\n",
    "\n",
    "# Based on the results below, we can conclude that the user listens to most of their music between 6:00 PM and 7:00 PM."
   ]
  },
  {
   "cell_type": "code",
   "execution_count": null,
   "id": "9e20467d-8379-400e-9ca7-d86effd993b6",
   "metadata": {},
   "outputs": [],
   "source": []
  },
  {
   "cell_type": "code",
   "execution_count": null,
   "id": "071a380e-1a63-4118-95c6-26de20dde934",
   "metadata": {},
   "outputs": [],
   "source": [
    "# Platform usage (web player, mobile, etc.).\n",
    "\n",
    "Platform_usage =  Spotify_data.groupby('platform')['platform'].count()\n",
    "\n",
    "Platform_usage\n",
    "\n",
    "# Based on the information, the user's preferred platform for listening to music is Android."
   ]
  },
  {
   "cell_type": "code",
   "execution_count": null,
   "id": "b7ef999c-70a7-4776-983e-ca1f20599ce7",
   "metadata": {},
   "outputs": [],
   "source": []
  },
  {
   "cell_type": "code",
   "execution_count": null,
   "id": "5bba3f5d-1fa6-4b51-9910-16d171661f65",
   "metadata": {},
   "outputs": [],
   "source": [
    "# Skips behavior – which songs or artists are skipped most.\n",
    "\n",
    "skips = Spotify_data[Spotify_data['skipped'] == True].groupby('artist_name').size().sort_values(ascending=False).head(10)\n",
    "skips\n",
    "# We can conclude that The Beatles had the highest number of skips, with a total of 70."
   ]
  },
  {
   "cell_type": "code",
   "execution_count": null,
   "id": "cbc594b4-e706-4a8c-aad1-e2ee2bf6fba1",
   "metadata": {},
   "outputs": [],
   "source": []
  },
  {
   "cell_type": "code",
   "execution_count": null,
   "id": "7cb40264-5d3d-42c7-94d3-42ad698c371d",
   "metadata": {},
   "outputs": [],
   "source": [
    "#Album listening trends.\n",
    "\n",
    "Top_albums = Spotify_data.groupby('album_name')['duration_seconds'].sum().sort_values(ascending=False).head(10)\n",
    "Top_albums\n",
    " \n",
    "# The user's most-listened-to album is The New Abnormal, as it has the highest total listening time as shown below."
   ]
  },
  {
   "cell_type": "code",
   "execution_count": null,
   "id": "e0f91108-8faf-494d-af6a-af1937ea1049",
   "metadata": {},
   "outputs": [],
   "source": []
  },
  {
   "cell_type": "markdown",
   "id": "a29a1a26-25bb-4cfd-87db-7d84a9d14450",
   "metadata": {},
   "source": [
    "# Data Visualization in Python\n",
    "\n",
    "1. Bar chart: Top 10 Artists.\n",
    "\n",
    "2. Heatmap: Listening by day of week & hour.\n",
    "\n",
    "3. Pie chart: Platform usage.\n",
    "\n",
    "4. Bar Chart: Top ten most skip songs\n",
    "\n",
    "5. Line Graph: Album listening trends"
   ]
  },
  {
   "cell_type": "code",
   "execution_count": null,
   "id": "8595d66a-803b-4f8f-a9f5-26a4ba3700d4",
   "metadata": {},
   "outputs": [],
   "source": []
  },
  {
   "cell_type": "code",
   "execution_count": null,
   "id": "dee066c9-1d14-42ae-b858-03326631e8b6",
   "metadata": {},
   "outputs": [],
   "source": [
    "# Bar chart: Top 10 Artists.\n",
    "sns.barplot(x=top_artists.values, y=top_artists.index)\n",
    "plt.title('Top 10 Artists')\n",
    "plt.xlabel('Seconds play')\n",
    "plt.ylabel('Artist Name')\n",
    "plt.savefig('Top_Artists.png')"
   ]
  },
  {
   "cell_type": "code",
   "execution_count": null,
   "id": "f193da0b-ae92-4a52-a3f1-dfa23bb76e50",
   "metadata": {},
   "outputs": [],
   "source": []
  },
  {
   "cell_type": "code",
   "execution_count": null,
   "id": "5d1c44a0-b738-4dfd-80fc-61f2cd89f845",
   "metadata": {},
   "outputs": [],
   "source": [
    "# Heatmap: Listening by day of week & hour.\n",
    "# Step 1: Convert Series to DataFrame\n",
    "hourly_df = hourly_listening.reset_index()\n",
    "hourly_df.columns = ['Hour', 'Total_Seconds']\n",
    "\n",
    "# Step 2: Set Hour as index (hours will be rows)\n",
    "heatmap_data = hourly_df.set_index('Hour')\n",
    "\n",
    "# Step 3: Plot vertical heatmap\n",
    "sns.heatmap(heatmap_data, annot=True, fmt=\".0f\", cmap=\"YlGnBu\", cbar_kws={'label': 'Seconds Listened'})\n",
    "plt.title(\"Listening Time by Hour\")\n",
    "plt.ylabel(\"Hour of Day\")\n",
    "plt.xlabel(\"Total Listening Seconds\")\n",
    "plt.savefig(\"Listening_Time_by_Hour_Heatmap.png\")\n"
   ]
  },
  {
   "cell_type": "code",
   "execution_count": null,
   "id": "09c88375-0276-4879-8185-ca744f3f7855",
   "metadata": {},
   "outputs": [],
   "source": [
    "\n"
   ]
  },
  {
   "cell_type": "code",
   "execution_count": null,
   "id": "4573525b-566c-44b8-ac54-8ed17d181642",
   "metadata": {},
   "outputs": [],
   "source": [
    "# Pie chart: Platform usage.\n",
    "plt.pie(\n",
    "    Platform_usage,                 # data values\n",
    "    labels=Platform_usage.index,    # platform names\n",
    "    colors=['#66b3ff','#99ff99','#ffcc99','#ff9999']\n",
    ")\n",
    "plt.title('Platform usage')\n",
    "plt.savefig('Platform_Usage.png')\n"
   ]
  },
  {
   "cell_type": "code",
   "execution_count": null,
   "id": "99f472d1-971f-42fc-8622-b70aaf0dd983",
   "metadata": {},
   "outputs": [],
   "source": []
  },
  {
   "cell_type": "code",
   "execution_count": null,
   "id": "097d6e7b-ee96-4f5d-a753-61db8b12aaca",
   "metadata": {},
   "outputs": [],
   "source": [
    "# Bar Chart: Top ten most skip songs\n",
    "sns.barplot(x=skips.values, y=skips.index)\n",
    "plt.title('Top 10 skip Artists')\n",
    "plt.xlabel('Amount of skips')\n",
    "plt.ylabel('Artist Name')\n",
    "plt.savefig('Most_skip_artist.png')\n"
   ]
  },
  {
   "cell_type": "code",
   "execution_count": null,
   "id": "d05f7081-ed74-40ad-8206-68ae5cdb551f",
   "metadata": {},
   "outputs": [],
   "source": []
  },
  {
   "cell_type": "code",
   "execution_count": null,
   "id": "c43a42c7-5553-489c-a7dd-3a3e86b04bb6",
   "metadata": {},
   "outputs": [],
   "source": [
    "# Line Graph: Album listening trends\n",
    "Albums_df = Top_albums.reset_index()\n",
    "plt.figure(figsize=(12,6))  # make the plot wider\n",
    "sns.lineplot(data=Albums_df, x=\"album_name\", y=\"duration_seconds\", marker='o')\n",
    "plt.xticks(rotation=45, ha='right')  # rotate labels and align them\n",
    "plt.xlabel('Album Name')\n",
    "plt.ylabel('Total Listening Time (seconds)')\n",
    "plt.title('Top 10 Albums by Listening Time')\n",
    "plt.tight_layout()  # adjust layout so nothing gets cut off\n",
    "plt.savefig('Top_10_Albums_by_listening_time.png')"
   ]
  },
  {
   "cell_type": "code",
   "execution_count": null,
   "id": "cd95c706-1de2-4193-84f7-4bbfe0a1612e",
   "metadata": {},
   "outputs": [],
   "source": []
  },
  {
   "cell_type": "markdown",
   "id": "5dc80332-4a11-4675-b106-ada52dfb174d",
   "metadata": {},
   "source": [
    "# Export the Dataframe"
   ]
  },
  {
   "cell_type": "code",
   "execution_count": null,
   "id": "702d68cc-5d1b-4d10-8098-469d2f2c33a1",
   "metadata": {},
   "outputs": [],
   "source": []
  },
  {
   "cell_type": "code",
   "execution_count": null,
   "id": "d1aa192a-594a-4833-b50c-7ccf1937b523",
   "metadata": {},
   "outputs": [],
   "source": [
    "Spotify_data.to_csv('clean_Spotify_data.excel', index=False)\n"
   ]
  },
  {
   "cell_type": "code",
   "execution_count": null,
   "id": "fc314aa4-2f94-4c64-8d62-a8babdc8d476",
   "metadata": {},
   "outputs": [],
   "source": []
  }
 ],
 "metadata": {
  "kernelspec": {
   "display_name": "Python [conda env:base] *",
   "language": "python",
   "name": "conda-base-py"
  },
  "language_info": {
   "codemirror_mode": {
    "name": "ipython",
    "version": 3
   },
   "file_extension": ".py",
   "mimetype": "text/x-python",
   "name": "python",
   "nbconvert_exporter": "python",
   "pygments_lexer": "ipython3",
   "version": "3.13.5"
  }
 },
 "nbformat": 4,
 "nbformat_minor": 5
}
