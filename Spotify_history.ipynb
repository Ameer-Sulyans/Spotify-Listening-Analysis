{
 "cells": [
  {
   "cell_type": "markdown",
   "id": "d15d0a99-9169-44b0-9438-f48232530b04",
   "metadata": {},
   "source": [
    "# Importing libraries"
   ]
  },
  {
   "cell_type": "code",
   "execution_count": null,
   "id": "15e078ab-ac9d-41fa-ad06-f8949907d672",
   "metadata": {},
   "outputs": [],
   "source": [
    "import pandas as pd\n",
    "import seaborn as sns\n",
    "import matplotlib.pyplot as plt\n"
   ]
  },
  {
   "cell_type": "code",
   "execution_count": null,
   "id": "207c7d4f-590a-47a1-b6b0-055e8b03367c",
   "metadata": {},
   "outputs": [],
   "source": []
  },
  {
   "cell_type": "markdown",
   "id": "6d40b458-40e2-4a8f-94a6-f2653a9e5b72",
   "metadata": {},
   "source": [
    "# Load"
   ]
  },
  {
   "cell_type": "code",
   "execution_count": null,
   "id": "13d903fc-c903-44c7-ade6-dbdf392b8cc4",
   "metadata": {},
   "outputs": [],
   "source": [
    "Spotify_data = pd.read_csv(r\"C:\\Users\\meers\\Downloads\\Spotify Data\\spotify_history.csv\")"
   ]
  },
  {
   "cell_type": "code",
   "execution_count": null,
   "id": "6919566f-9b6d-427d-aec7-bc578bf65e5a",
   "metadata": {},
   "outputs": [],
   "source": [
    "Spotify_data"
   ]
  },
  {
   "cell_type": "code",
   "execution_count": null,
   "id": "55da8753-b6e9-4f76-aad2-ddb31a3b8297",
   "metadata": {},
   "outputs": [],
   "source": []
  },
  {
   "cell_type": "markdown",
   "id": "1de812d4-64f7-4996-8b59-39c878e10d5a",
   "metadata": {},
   "source": [
    "# Check Structure"
   ]
  },
  {
   "cell_type": "code",
   "execution_count": null,
   "id": "5516332e-3edc-4953-961b-10ec5d8940f9",
   "metadata": {},
   "outputs": [],
   "source": [
    "Spotify_data.info()"
   ]
  },
  {
   "cell_type": "code",
   "execution_count": null,
   "id": "e503f9d5-7fae-4b7c-91ce-f44348e11699",
   "metadata": {},
   "outputs": [],
   "source": []
  },
  {
   "cell_type": "code",
   "execution_count": null,
   "id": "f4b3a8fb-505f-4c50-a4de-05a5386537d4",
   "metadata": {},
   "outputs": [],
   "source": [
    "Spotify_data.describe()"
   ]
  },
  {
   "cell_type": "code",
   "execution_count": null,
   "id": "a4e3a4d9-0f40-46be-84ed-2ee0197760a3",
   "metadata": {},
   "outputs": [],
   "source": []
  },
  {
   "cell_type": "code",
   "execution_count": null,
   "id": "7e3e80b8-c52c-4c46-a55a-eab088d16eab",
   "metadata": {},
   "outputs": [],
   "source": [
    "Spotify_data.head()"
   ]
  },
  {
   "cell_type": "code",
   "execution_count": null,
   "id": "6f425d1e-0c36-44e3-b55d-3dfb03774f59",
   "metadata": {},
   "outputs": [],
   "source": []
  },
  {
   "cell_type": "markdown",
   "id": "afa94b84-cc0c-4d8f-bcc3-50fadc979e7e",
   "metadata": {},
   "source": [
    "# Cleaning Data\n",
    "\n",
    "Handle missing values.\n",
    "\n",
    "Convert timestamps to datetime.\n",
    "\n",
    "Create new time-based features (year, month, day, hour).\n",
    "\n",
    "Convert ms_played to minutes/seconds.\n",
    "\n",
    "Remove extremely short plays less than 15 seconds to filter out accidental clicks."
   ]
  },
  {
   "cell_type": "code",
   "execution_count": null,
   "id": "7ad709f6-2fbb-489c-996e-9d4594efdfd5",
   "metadata": {},
   "outputs": [],
   "source": []
  },
  {
   "cell_type": "code",
   "execution_count": null,
   "id": "789430a1-54e9-444b-88a5-0b54c6139e77",
   "metadata": {},
   "outputs": [],
   "source": [
    "#Convert timestep to Datetime\n",
    "\n",
    "Spotify_data['ts'] = pd.to_datetime(Spotify_data['ts'])\n",
    "\n",
    "Spotify_data['ts_year'] = Spotify_data['ts'].dt.year\n",
    "Spotify_data['ts_month'] = Spotify_data['ts'].dt.month_name()\n",
    "Spotify_data['ts_day'] = Spotify_data['ts'].dt.day\n",
    "Spotify_data['ts_hour'] = Spotify_data['ts'].dt.hour\n",
    "\n"
   ]
  },
  {
   "cell_type": "code",
   "execution_count": null,
   "id": "471fa2b2-8734-41b9-a649-d3195847a1c4",
   "metadata": {},
   "outputs": [],
   "source": [
    "# Filter, convert to seconds, and format in one go\n",
    "Spotify_data = (\n",
    "    Spotify_data.assign(duration_seconds=Spotify_data['ms_played'] / 1000)\n",
    "                .loc[lambda df: df['duration_seconds'] >= 15]\n",
    "                .assign(minute_and_seconds=lambda df: df['duration_seconds'].apply(\n",
    "                    lambda x: f\"{int(x // 60)}:{int(x % 60):02d}\"\n",
    "                ))\n",
    ")\n",
    "\n",
    "\n",
    "Spotify_data"
   ]
  },
  {
   "cell_type": "code",
   "execution_count": null,
   "id": "55d2e912-0333-42c6-afa1-2a389cde4931",
   "metadata": {},
   "outputs": [],
   "source": []
  },
  {
   "cell_type": "code",
   "execution_count": null,
   "id": "eb9f635b-8f34-49bd-9bf4-93dfd7b09735",
   "metadata": {},
   "outputs": [],
   "source": []
  },
  {
   "cell_type": "code",
   "execution_count": null,
   "id": "b4074909-d2c3-42e8-beef-2280dad898cc",
   "metadata": {},
   "outputs": [],
   "source": []
  },
  {
   "cell_type": "code",
   "execution_count": null,
   "id": "73270bc7-a4e2-496e-a31d-78934c04f726",
   "metadata": {},
   "outputs": [],
   "source": [
    "#Removing uncessary columns\n",
    "\n",
    "Spotify_data = Spotify_data.drop(columns=['ts', 'ms_played'])\n"
   ]
  },
  {
   "cell_type": "code",
   "execution_count": null,
   "id": "46ea9a59-36c0-45f5-bf60-91843d96b0d8",
   "metadata": {},
   "outputs": [],
   "source": []
  },
  {
   "cell_type": "code",
   "execution_count": null,
   "id": "bce245d3-45eb-42f5-b11d-82938a6752ec",
   "metadata": {},
   "outputs": [],
   "source": []
  },
  {
   "cell_type": "code",
   "execution_count": null,
   "id": "4cb9f77d-5aa5-47cc-bdbb-54eef41ac077",
   "metadata": {},
   "outputs": [],
   "source": []
  },
  {
   "cell_type": "code",
   "execution_count": null,
   "id": "7b0aff35-5fa6-4430-9673-17fc778666fb",
   "metadata": {},
   "outputs": [],
   "source": [
    "Spotify_data"
   ]
  },
  {
   "cell_type": "code",
   "execution_count": null,
   "id": "5ec32e98-938a-41d8-b62e-ceddc37ccdef",
   "metadata": {},
   "outputs": [],
   "source": []
  },
  {
   "cell_type": "markdown",
   "id": "35032deb-428a-464e-8835-504a24084f13",
   "metadata": {},
   "source": [
    "# Exploratory Data Analysis\n",
    "\n",
    "Questions to answer:\n",
    "\n",
    "1. Top artists & tracks by total minutes played.\n",
    "\n",
    "2. Listening habits by time (hour, day, month).\n",
    "\n",
    "3. Platform usage (web player, mobile, etc.).\n",
    "\n",
    "4. Skips behavior – which songs or artists are skipped most.\n",
    "\n",
    "5. Album listening trends.\n"
   ]
  },
  {
   "cell_type": "code",
   "execution_count": null,
   "id": "ccee3fdf-bcc3-4c4a-8f29-f2b7fee80b53",
   "metadata": {},
   "outputs": [],
   "source": []
  },
  {
   "cell_type": "code",
   "execution_count": null,
   "id": "55141ed2-8a5a-4106-a41e-fa287aa31a57",
   "metadata": {},
   "outputs": [],
   "source": []
  },
  {
   "cell_type": "code",
   "execution_count": null,
   "id": "74b93c23-3894-4797-baa5-5c660d874cbb",
   "metadata": {},
   "outputs": [],
   "source": []
  },
  {
   "cell_type": "code",
   "execution_count": null,
   "id": "8a18f90b-d0f1-4a17-a323-b457eea437f0",
   "metadata": {},
   "outputs": [],
   "source": []
  },
  {
   "cell_type": "code",
   "execution_count": null,
   "id": "9e20467d-8379-400e-9ca7-d86effd993b6",
   "metadata": {},
   "outputs": [],
   "source": []
  },
  {
   "cell_type": "code",
   "execution_count": null,
   "id": "5bba3f5d-1fa6-4b51-9910-16d171661f65",
   "metadata": {},
   "outputs": [],
   "source": []
  },
  {
   "cell_type": "code",
   "execution_count": null,
   "id": "cbc594b4-e706-4a8c-aad1-e2ee2bf6fba1",
   "metadata": {},
   "outputs": [],
   "source": []
  },
  {
   "cell_type": "code",
   "execution_count": null,
   "id": "4820443e-a6bb-471e-b1a3-f127c693d67a",
   "metadata": {},
   "outputs": [],
   "source": []
  },
  {
   "cell_type": "code",
   "execution_count": null,
   "id": "5186dd70-c53f-4c52-976d-be830b2d9cfa",
   "metadata": {},
   "outputs": [],
   "source": []
  },
  {
   "cell_type": "code",
   "execution_count": null,
   "id": "17eef7b0-926b-41a5-a42a-7e8e89af1dca",
   "metadata": {},
   "outputs": [],
   "source": []
  },
  {
   "cell_type": "code",
   "execution_count": null,
   "id": "2ff72292-7629-4809-9b37-996c80805b58",
   "metadata": {},
   "outputs": [],
   "source": []
  },
  {
   "cell_type": "code",
   "execution_count": null,
   "id": "a5097b12-d22b-43b3-a3ad-32b810482f22",
   "metadata": {},
   "outputs": [],
   "source": []
  },
  {
   "cell_type": "code",
   "execution_count": null,
   "id": "13810414-c88a-4d5e-82cb-3e15296c47cf",
   "metadata": {},
   "outputs": [],
   "source": []
  },
  {
   "cell_type": "code",
   "execution_count": null,
   "id": "1590928c-b583-437f-8570-5c2ab8e7b6af",
   "metadata": {},
   "outputs": [],
   "source": []
  },
  {
   "cell_type": "code",
   "execution_count": null,
   "id": "1d95c1db-7af8-4368-93c6-8e0e5724887c",
   "metadata": {},
   "outputs": [],
   "source": []
  },
  {
   "cell_type": "markdown",
   "id": "a29a1a26-25bb-4cfd-87db-7d84a9d14450",
   "metadata": {},
   "source": [
    "# Data Visualization in Python\n",
    "\n",
    "Bar chart: Top 10 Artists.\n",
    "\n",
    "Heatmap: Listening by day of week & hour.\n",
    "\n",
    "Pie chart: Platform usage."
   ]
  },
  {
   "cell_type": "code",
   "execution_count": null,
   "id": "8595d66a-803b-4f8f-a9f5-26a4ba3700d4",
   "metadata": {},
   "outputs": [],
   "source": []
  },
  {
   "cell_type": "code",
   "execution_count": null,
   "id": "dee066c9-1d14-42ae-b858-03326631e8b6",
   "metadata": {},
   "outputs": [],
   "source": []
  },
  {
   "cell_type": "code",
   "execution_count": null,
   "id": "f193da0b-ae92-4a52-a3f1-dfa23bb76e50",
   "metadata": {},
   "outputs": [],
   "source": []
  },
  {
   "cell_type": "code",
   "execution_count": null,
   "id": "5d1c44a0-b738-4dfd-80fc-61f2cd89f845",
   "metadata": {},
   "outputs": [],
   "source": []
  },
  {
   "cell_type": "code",
   "execution_count": null,
   "id": "09c88375-0276-4879-8185-ca744f3f7855",
   "metadata": {},
   "outputs": [],
   "source": []
  },
  {
   "cell_type": "code",
   "execution_count": null,
   "id": "4573525b-566c-44b8-ac54-8ed17d181642",
   "metadata": {},
   "outputs": [],
   "source": []
  },
  {
   "cell_type": "code",
   "execution_count": null,
   "id": "99f472d1-971f-42fc-8622-b70aaf0dd983",
   "metadata": {},
   "outputs": [],
   "source": []
  },
  {
   "cell_type": "code",
   "execution_count": null,
   "id": "097d6e7b-ee96-4f5d-a753-61db8b12aaca",
   "metadata": {},
   "outputs": [],
   "source": []
  },
  {
   "cell_type": "code",
   "execution_count": null,
   "id": "d05f7081-ed74-40ad-8206-68ae5cdb551f",
   "metadata": {},
   "outputs": [],
   "source": []
  },
  {
   "cell_type": "code",
   "execution_count": null,
   "id": "c43a42c7-5553-489c-a7dd-3a3e86b04bb6",
   "metadata": {},
   "outputs": [],
   "source": []
  },
  {
   "cell_type": "code",
   "execution_count": null,
   "id": "cd95c706-1de2-4193-84f7-4bbfe0a1612e",
   "metadata": {},
   "outputs": [],
   "source": []
  },
  {
   "cell_type": "code",
   "execution_count": null,
   "id": "d1aa192a-594a-4833-b50c-7ccf1937b523",
   "metadata": {},
   "outputs": [],
   "source": []
  },
  {
   "cell_type": "code",
   "execution_count": null,
   "id": "cdc04b64-f298-4360-8c4b-21a5e379881c",
   "metadata": {},
   "outputs": [],
   "source": []
  },
  {
   "cell_type": "code",
   "execution_count": null,
   "id": "2b6ec272-ea20-4b7d-862b-5d5943fdbd01",
   "metadata": {},
   "outputs": [],
   "source": []
  }
 ],
 "metadata": {
  "kernelspec": {
   "display_name": "Python [conda env:base] *",
   "language": "python",
   "name": "conda-base-py"
  },
  "language_info": {
   "codemirror_mode": {
    "name": "ipython",
    "version": 3
   },
   "file_extension": ".py",
   "mimetype": "text/x-python",
   "name": "python",
   "nbconvert_exporter": "python",
   "pygments_lexer": "ipython3",
   "version": "3.13.5"
  }
 },
 "nbformat": 4,
 "nbformat_minor": 5
}
